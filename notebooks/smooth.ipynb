{
 "cells": [
  {
   "cell_type": "code",
   "execution_count": 18,
   "id": "9fe7386c-e699-4066-ad43-1b7ae2070351",
   "metadata": {},
   "outputs": [],
   "source": [
    "import bpy\n",
    "import os\n",
    "\n",
    "\n",
    "def smooth(input_file, output_file, *args, **kwargs):\n",
    "    default_smooth = {\"factor\": 0.5, \"iterations\": 40}\n",
    "    print(kwargs)\n",
    "    \n",
    "    # Import the STL file\n",
    "    bpy.ops.import_mesh.stl(filepath=input_file)\n",
    "\n",
    "    # Get the imported mesh object\n",
    "    obj = bpy.context.object\n",
    "\n",
    "    # smooth = obj.modifiers.new(name=\"Smooth\", type='SMOOTH')\n",
    "    # smooth.factor = 0.5\n",
    "    # smooth.iterations = 40\n",
    "    # smooth.use_x = False\n",
    "    # smooth.use_y = False\n",
    "    # smooth.use_z = True\n",
    "    # bpy.ops.object.modifier_apply(modifier=\"Smooth\")\n",
    "    \n",
    "    # Add a smooth modifier\n",
    "    smooth_x = obj.modifiers.new(name=\"Smooth_X\", type='SMOOTH')\n",
    "    smooth_x.factor = kwargs.get(\"x\", default_smooth).get(\"factor\")\n",
    "    smooth_x.iterations = kwargs.get(\"x\", default_smooth).get(\"iterations\")\n",
    "    smooth_x.use_x = True\n",
    "    smooth_x.use_y = False\n",
    "    smooth_x.use_z = False\n",
    "\n",
    "    smooth_y = obj.modifiers.new(name=\"Smooth_Y\", type='SMOOTH')\n",
    "    smooth_y.factor = kwargs.get(\"y\", default_smooth).get(\"factor\")\n",
    "    smooth_y.iterations = kwargs.get(\"y\", default_smooth).get(\"iterations\")\n",
    "    smooth_y.use_x = False\n",
    "    smooth_y.use_y = True\n",
    "    smooth_y.use_z = False\n",
    "\n",
    "    smooth_z = obj.modifiers.new(name=\"Smooth_Z\", type='SMOOTH')\n",
    "    smooth_z.factor = kwargs.get(\"z\", default_smooth).get(\"factor\")\n",
    "    smooth_z.iterations = kwargs.get(\"z\", default_smooth).get(\"iterations\")\n",
    "    smooth_z.use_x = False\n",
    "    smooth_z.use_y = False\n",
    "    smooth_z.use_z = True\n",
    "\n",
    "    # # Apply the modifier\n",
    "    bpy.ops.object.modifier_apply(modifier=\"Smooth_X\")\n",
    "    bpy.ops.object.modifier_apply(modifier=\"Smooth_Y\")\n",
    "    bpy.ops.object.modifier_apply(modifier=\"Smooth_Z\")\n",
    "    \n",
    "    # Export the smoothed mesh as STL\n",
    "    bpy.ops.export_mesh.stl(filepath=output_file, use_selection=True)\n",
    "\n",
    "    # Delete the imported mesh object\n",
    "    bpy.data.objects.remove(obj)\n"
   ]
  },
  {
   "cell_type": "code",
   "execution_count": 19,
   "id": "f7acdaed-d9f0-474d-bb70-2c0dbd191c01",
   "metadata": {},
   "outputs": [
    {
     "name": "stdout",
     "output_type": "stream",
     "text": [
      "{'x': {'factor': 0.5, 'iterations': 1}, 'y': {'factor': 0.5, 'iterations': 1}, 'z': {'factor': 0.5, 'iterations': 100}}\n",
      "Import finished in 0.4454 sec.\n"
     ]
    }
   ],
   "source": [
    "mesh_file = \"./notebooks/ha_the_hanh/hanh.stl\"\n",
    "smooth_mesh_file = os.path.join(os.path.dirname(mesh_file), \"smooth_\" + os.path.basename(mesh_file))\n",
    "smooth(\n",
    "    input_file=mesh_file, output_file=smooth_mesh_file, **{\n",
    "        \"x\": {\"factor\": 0.5, \"iterations\": 1},\n",
    "        \"y\": {\"factor\": 0.5, \"iterations\": 1},\n",
    "        \"z\": {\"factor\": 0.5, \"iterations\": 100}\n",
    "    }\n",
    ")"
   ]
  },
  {
   "cell_type": "code",
   "execution_count": null,
   "id": "95eb82a7-2c9f-496d-9e83-5fb1bcaf4024",
   "metadata": {},
   "outputs": [],
   "source": []
  }
 ],
 "metadata": {
  "kernelspec": {
   "display_name": "Python 3 (ipykernel)",
   "language": "python",
   "name": "python3"
  },
  "language_info": {
   "codemirror_mode": {
    "name": "ipython",
    "version": 3
   },
   "file_extension": ".py",
   "mimetype": "text/x-python",
   "name": "python",
   "nbconvert_exporter": "python",
   "pygments_lexer": "ipython3",
   "version": "3.11.6"
  }
 },
 "nbformat": 4,
 "nbformat_minor": 5
}
